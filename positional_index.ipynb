{
 "cells": [
  {
   "cell_type": "code",
   "execution_count": 1,
   "id": "13112f36",
   "metadata": {},
   "outputs": [
    {
     "name": "stderr",
     "output_type": "stream",
     "text": [
      "[nltk_data] Downloading package punkt to\n",
      "[nltk_data]     C:\\Users\\JAYSA\\AppData\\Roaming\\nltk_data...\n",
      "[nltk_data]   Package punkt is already up-to-date!\n",
      "[nltk_data] Downloading package stopwords to\n",
      "[nltk_data]     C:\\Users\\JAYSA\\AppData\\Roaming\\nltk_data...\n",
      "[nltk_data]   Package stopwords is already up-to-date!\n"
     ]
    },
    {
     "data": {
      "text/plain": [
       "True"
      ]
     },
     "execution_count": 1,
     "metadata": {},
     "output_type": "execute_result"
    }
   ],
   "source": [
    "# Jay Saraf 2020438\n",
    "import os\n",
    "import nltk\n",
    "import re\n",
    "import json\n",
    "import pickle\n",
    "from tqdm.notebook import tqdm\n",
    "from nltk.corpus import stopwords\n",
    "from nltk.tokenize import word_tokenize\n",
    "\n",
    "nltk.download('punkt')\n",
    "nltk.download('stopwords')"
   ]
  },
  {
   "cell_type": "code",
   "execution_count": 2,
   "id": "8456fdfc",
   "metadata": {},
   "outputs": [],
   "source": [
    "def preprocess(text):\n",
    "    # Lowercasing the text\n",
    "    text = text.lower()\n",
    "    # Performing tokenization\n",
    "    tokens = word_tokenize(text)\n",
    "    # Removing stopwords\n",
    "    stop_words = set(stopwords.words('english'))\n",
    "    tokens = [word for word in tokens if not word in stop_words]\n",
    "    # Removing punctuations\n",
    "    #These lines commented below if uncommented will enable the data to be more information specific\n",
    "    # This is because other kinds of punctuations are removed but not hyphen\n",
    "#     split_tokens = []\n",
    "#     for token in tokens:\n",
    "#         if '=' in token or '/' in token:\n",
    "#             split_tokens.extend(re.split(r'[=/]', token))\n",
    "#         else:\n",
    "#             split_tokens.append(token)\n",
    "\n",
    "#     tokens = split_tokens\n",
    "\n",
    "#     tokens = [word for word in tokens if word.isalpha() or '-' in word]\n",
    "#     The below assumption separates all the words or terms in order to do punctuation\n",
    "    \n",
    "    tokens = re.split(r'[^a-zA-Z0-9]+', ' '.join(tokens))\n",
    "    # Removing blank space tokens\n",
    "    tokens = [word for word in tokens if word.strip()]\n",
    "    return tokens"
   ]
  },
  {
   "cell_type": "code",
   "execution_count": 3,
   "id": "25e27958",
   "metadata": {},
   "outputs": [],
   "source": [
    "def create_dict(tokens, filename, db):\n",
    "    # Iterating over every token in the list of tokens\n",
    "    for i, token in enumerate(tokens):\n",
    "        if token in db:\n",
    "            if filename in db[token]:\n",
    "                db[token][filename].append(i)\n",
    "            else:\n",
    "                db[token][filename] = [i]\n",
    "        else:\n",
    "            db[token] = {filename: [i]}"
   ]
  },
  {
   "cell_type": "code",
   "execution_count": 4,
   "id": "4ac1a14d",
   "metadata": {},
   "outputs": [],
   "source": [
    "def build_index(directory):\n",
    "    os.chdir(directory)\n",
    "    db = {}\n",
    "    for filename in tqdm(os.listdir()):\n",
    "        with open(filename, 'r') as f:\n",
    "            text = f.read()\n",
    "        tokens = preprocess(text)\n",
    "        create_dict(tokens, filename, db)\n",
    "    return db"
   ]
  },
  {
   "cell_type": "code",
   "execution_count": 5,
   "id": "4470c489",
   "metadata": {},
   "outputs": [
    {
     "data": {
      "application/vnd.jupyter.widget-view+json": {
       "model_id": "9bc10d3ead16412290354990b4bc574d",
       "version_major": 2,
       "version_minor": 0
      },
      "text/plain": [
       "  0%|          | 0/999 [00:00<?, ?it/s]"
      ]
     },
     "metadata": {},
     "output_type": "display_data"
    }
   ],
   "source": [
    "db = build_index('C:/Users/JAYSA/Downloads/IR/modified_preprocessed_files')"
   ]
  },
  {
   "cell_type": "code",
   "execution_count": 6,
   "id": "5d271ec9",
   "metadata": {},
   "outputs": [],
   "source": [
    "# print(len(db))"
   ]
  },
  {
   "cell_type": "code",
   "execution_count": 7,
   "id": "421392e1",
   "metadata": {},
   "outputs": [],
   "source": [
    "# Saving indices to the pickle file\n",
    "def save_index_to_pickle(filename):\n",
    "    directory = os.path.dirname(filename)\n",
    "    if not os.path.exists(directory):\n",
    "        os.makedirs(directory)\n",
    "    if os.path.exists(filename):\n",
    "        os.remove(filename)\n",
    "    with open(filename, 'wb') as f:\n",
    "        pickle.dump(db, f)\n",
    "\n",
    "# Saving indices in the text file in order to check values\n",
    "def save_index_to_txt(filename):\n",
    "    directory = os.path.dirname(filename)\n",
    "    if not os.path.exists(directory):\n",
    "        os.makedirs(directory)\n",
    "    if os.path.exists(filename):\n",
    "        os.remove(filename)\n",
    "    with open(filename, 'w') as f:\n",
    "        f.write(json.dumps(db, indent=4))"
   ]
  },
  {
   "cell_type": "code",
   "execution_count": 8,
   "id": "8563c355",
   "metadata": {},
   "outputs": [],
   "source": [
    "save_index_to_pickle('C:/Users/JAYSA/Downloads/IR/PositionalIndex/positional_index.pickle')\n",
    "save_index_to_txt('C:/Users/JAYSA/Downloads/IR/PositionalIndex/positional_index.txt')"
   ]
  },
  {
   "cell_type": "code",
   "execution_count": 9,
   "id": "0ed63fa8",
   "metadata": {},
   "outputs": [],
   "source": [
    "def positional_query(phrase_query):\n",
    "    # Preprocess the input phrase query\n",
    "    sentence = preprocess(phrase_query)\n",
    "    # If only one term is found in the preprocessed query\n",
    "    if len(sentence) == 1:  \n",
    "        # Then return the set of document IDs where the terms occurs\n",
    "        posting_list = db.get(sentence[0], {})\n",
    "        return posting_list.keys()  \n",
    "\n",
    "    result = set()\n",
    "    term_postings = [db.get(term, {}) for term in sentence]  # Get posting lists for each term\n",
    "\n",
    "    # Find common documents containing all terms\n",
    "    common_documents = set.intersection(*[set(postings.keys()) for postings in term_postings])\n",
    "\n",
    "    # Check for consecutive positions in each common document\n",
    "    for doc_id in common_documents:\n",
    "        start_positions = [postings[doc_id] for postings in term_postings]\n",
    "        for i in range(len(start_positions[0])):\n",
    "            # Checking whether the terms are consecutively positioned in the query\n",
    "            if all(start_positions[j][i] + 1 in start_positions[j+1] for j in range(len(sentence) - 1)):\n",
    "                result.add(doc_id)\n",
    "                break\n",
    "\n",
    "    return result"
   ]
  },
  {
   "cell_type": "code",
   "execution_count": null,
   "id": "fd8a0e3b",
   "metadata": {},
   "outputs": [],
   "source": [
    "def main():\n",
    "    n = int(input(\"Enter the number of queries to execute:\"))\n",
    "    print(\"Enter queries below:\")\n",
    "    queries = [input() for query in range(n)]\n",
    "    \n",
    "    # Storing the dictionary\n",
    "    with open('C:/Users/JAYSA/Downloads/IR/PositionalIndex/positional_index.pickle', 'rb') as f:\n",
    "        db = pickle.load(f)\n",
    "\n",
    "    # Iterating over all the queries\n",
    "    for i, query in enumerate(queries):\n",
    "        total_docs = positional_query(query)\n",
    "        print(f\"Number of documents retrieved for query {i+1} using positional index: {len(total_docs)}\")\n",
    "        print(f\"Names of documents retrieved for query {i+1} using positional index: {total_docs}\")\n",
    "\n",
    "if __name__ == \"__main__\":\n",
    "    main()"
   ]
  }
 ],
 "metadata": {
  "kernelspec": {
   "display_name": "Python 3 (ipykernel)",
   "language": "python",
   "name": "python3"
  },
  "language_info": {
   "codemirror_mode": {
    "name": "ipython",
    "version": 3
   },
   "file_extension": ".py",
   "mimetype": "text/x-python",
   "name": "python",
   "nbconvert_exporter": "python",
   "pygments_lexer": "ipython3",
   "version": "3.8.18"
  }
 },
 "nbformat": 4,
 "nbformat_minor": 5
}
